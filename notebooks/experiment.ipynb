{
 "cells": [
  {
   "cell_type": "markdown",
   "id": "5647f609",
   "metadata": {},
   "source": [
    "# Experiment"
   ]
  },
  {
   "cell_type": "code",
   "execution_count": null,
   "id": "35fedb01",
   "metadata": {},
   "outputs": [],
   "source": [
    "%load_ext autoreload\n",
    "%autoreload 2"
   ]
  },
  {
   "cell_type": "code",
   "execution_count": null,
   "id": "dad33094",
   "metadata": {},
   "outputs": [],
   "source": [
    "# Set paths in order to import packages correctly.\n",
    "import sys\n",
    "import os\n",
    "sys.path.append(os.path.abspath(\"./..\")) \n",
    "sys.path.append(\"./../src\")"
   ]
  }
 ],
 "metadata": {
  "kernelspec": {
   "display_name": "Python 3 (ipykernel)",
   "language": "python",
   "name": "python3"
  },
  "language_info": {
   "codemirror_mode": {
    "name": "ipython",
    "version": 3
   },
   "file_extension": ".py",
   "mimetype": "text/x-python",
   "name": "python",
   "nbconvert_exporter": "python",
   "pygments_lexer": "ipython3",
   "version": "3.10.0"
  }
 },
 "nbformat": 4,
 "nbformat_minor": 5
}
